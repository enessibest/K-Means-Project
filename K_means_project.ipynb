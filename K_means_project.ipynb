{
  "nbformat": 4,
  "nbformat_minor": 0,
  "metadata": {
    "colab": {
      "name": "K-means project.ipynb",
      "provenance": [],
      "collapsed_sections": [],
      "authorship_tag": "ABX9TyOhjnePjLm8HVjyza8oeHIr",
      "include_colab_link": true
    },
    "kernelspec": {
      "name": "python3",
      "display_name": "Python 3"
    },
    "language_info": {
      "name": "python"
    }
  },
  "cells": [
    {
      "cell_type": "markdown",
      "metadata": {
        "id": "view-in-github",
        "colab_type": "text"
      },
      "source": [
        "<a href=\"https://colab.research.google.com/github/enessibest/K-Means-Project/blob/main/K_means_project.ipynb\" target=\"_parent\"><img src=\"https://colab.research.google.com/assets/colab-badge.svg\" alt=\"Open In Colab\"/></a>"
      ]
    },
    {
      "cell_type": "code",
      "execution_count": null,
      "metadata": {
        "id": "K8OHwgQHXhTE"
      },
      "outputs": [],
      "source": [
        "import numpy as np\n",
        "import pandas as pd\n",
        "import matplotlib.pyplot as plt\n",
        "import seaborn as sns"
      ]
    },
    {
      "cell_type": "code",
      "source": [
        "data= pd.read_csv('/content/employee-compensation.csv')\n",
        "data.head()"
      ],
      "metadata": {
        "colab": {
          "base_uri": "https://localhost:8080/",
          "height": 565
        },
        "id": "vgRbE1WzYAcq",
        "outputId": "56e90b60-4162-4595-8bdf-c3382c273930"
      },
      "execution_count": null,
      "outputs": [
        {
          "output_type": "execute_result",
          "data": {
            "text/html": [
              "\n",
              "  <div id=\"df-12924ce9-7213-46a5-a83e-1bd970f1fc1c\">\n",
              "    <div class=\"colab-df-container\">\n",
              "      <div>\n",
              "<style scoped>\n",
              "    .dataframe tbody tr th:only-of-type {\n",
              "        vertical-align: middle;\n",
              "    }\n",
              "\n",
              "    .dataframe tbody tr th {\n",
              "        vertical-align: top;\n",
              "    }\n",
              "\n",
              "    .dataframe thead th {\n",
              "        text-align: right;\n",
              "    }\n",
              "</style>\n",
              "<table border=\"1\" class=\"dataframe\">\n",
              "  <thead>\n",
              "    <tr style=\"text-align: right;\">\n",
              "      <th></th>\n",
              "      <th>Organization Group Code</th>\n",
              "      <th>Job Family Code</th>\n",
              "      <th>Job Code</th>\n",
              "      <th>Year Type</th>\n",
              "      <th>Year</th>\n",
              "      <th>Organization Group</th>\n",
              "      <th>Department Code</th>\n",
              "      <th>Department</th>\n",
              "      <th>Union Code</th>\n",
              "      <th>Union</th>\n",
              "      <th>Job Family</th>\n",
              "      <th>Job</th>\n",
              "      <th>Employee Identifier</th>\n",
              "      <th>Salaries</th>\n",
              "      <th>Overtime</th>\n",
              "      <th>Other Salaries</th>\n",
              "      <th>Total Salary</th>\n",
              "      <th>Retirement</th>\n",
              "      <th>Health and Dental</th>\n",
              "      <th>Other Benefits</th>\n",
              "      <th>Total Benefits</th>\n",
              "      <th>Total Compensation</th>\n",
              "    </tr>\n",
              "  </thead>\n",
              "  <tbody>\n",
              "    <tr>\n",
              "      <th>0</th>\n",
              "      <td>1</td>\n",
              "      <td>1000</td>\n",
              "      <td>1021</td>\n",
              "      <td>Calendar</td>\n",
              "      <td>2013</td>\n",
              "      <td>Public Protection</td>\n",
              "      <td>ADP</td>\n",
              "      <td>ADP Adult Probation</td>\n",
              "      <td>21.0</td>\n",
              "      <td>Prof &amp; Tech Engineers - Miscellaneous, Local 21</td>\n",
              "      <td>Information Systems</td>\n",
              "      <td>IS Administrator 1</td>\n",
              "      <td>37730</td>\n",
              "      <td>57534.65</td>\n",
              "      <td>0.0</td>\n",
              "      <td>0.00</td>\n",
              "      <td>57534.65</td>\n",
              "      <td>11253.16</td>\n",
              "      <td>11961.34</td>\n",
              "      <td>4532.63</td>\n",
              "      <td>27747.13</td>\n",
              "      <td>85281.78</td>\n",
              "    </tr>\n",
              "    <tr>\n",
              "      <th>1</th>\n",
              "      <td>1</td>\n",
              "      <td>1000</td>\n",
              "      <td>1023</td>\n",
              "      <td>Calendar</td>\n",
              "      <td>2013</td>\n",
              "      <td>Public Protection</td>\n",
              "      <td>ADP</td>\n",
              "      <td>ADP Adult Probation</td>\n",
              "      <td>21.0</td>\n",
              "      <td>Prof &amp; Tech Engineers - Miscellaneous, Local 21</td>\n",
              "      <td>Information Systems</td>\n",
              "      <td>IS Administrator 3</td>\n",
              "      <td>26574</td>\n",
              "      <td>57678.50</td>\n",
              "      <td>0.0</td>\n",
              "      <td>0.00</td>\n",
              "      <td>57678.50</td>\n",
              "      <td>10284.88</td>\n",
              "      <td>7176.80</td>\n",
              "      <td>4755.14</td>\n",
              "      <td>22216.82</td>\n",
              "      <td>79895.32</td>\n",
              "    </tr>\n",
              "    <tr>\n",
              "      <th>2</th>\n",
              "      <td>1</td>\n",
              "      <td>1000</td>\n",
              "      <td>1031</td>\n",
              "      <td>Calendar</td>\n",
              "      <td>2013</td>\n",
              "      <td>Public Protection</td>\n",
              "      <td>ADP</td>\n",
              "      <td>ADP Adult Probation</td>\n",
              "      <td>21.0</td>\n",
              "      <td>Prof &amp; Tech Engineers - Miscellaneous, Local 21</td>\n",
              "      <td>Information Systems</td>\n",
              "      <td>IS Trainer-Assistant</td>\n",
              "      <td>8148</td>\n",
              "      <td>63532.93</td>\n",
              "      <td>0.0</td>\n",
              "      <td>0.00</td>\n",
              "      <td>63532.93</td>\n",
              "      <td>12495.83</td>\n",
              "      <td>12918.24</td>\n",
              "      <td>4702.71</td>\n",
              "      <td>30116.78</td>\n",
              "      <td>93649.71</td>\n",
              "    </tr>\n",
              "    <tr>\n",
              "      <th>3</th>\n",
              "      <td>1</td>\n",
              "      <td>1000</td>\n",
              "      <td>1054</td>\n",
              "      <td>Calendar</td>\n",
              "      <td>2013</td>\n",
              "      <td>Public Protection</td>\n",
              "      <td>ADP</td>\n",
              "      <td>ADP Adult Probation</td>\n",
              "      <td>21.0</td>\n",
              "      <td>Prof &amp; Tech Engineers - Miscellaneous, Local 21</td>\n",
              "      <td>Information Systems</td>\n",
              "      <td>IS Business Analyst-Principal</td>\n",
              "      <td>27436</td>\n",
              "      <td>101274.51</td>\n",
              "      <td>0.0</td>\n",
              "      <td>-7058.59</td>\n",
              "      <td>94215.92</td>\n",
              "      <td>19644.45</td>\n",
              "      <td>12918.24</td>\n",
              "      <td>7458.76</td>\n",
              "      <td>40021.45</td>\n",
              "      <td>134237.37</td>\n",
              "    </tr>\n",
              "    <tr>\n",
              "      <th>4</th>\n",
              "      <td>1</td>\n",
              "      <td>1000</td>\n",
              "      <td>1062</td>\n",
              "      <td>Calendar</td>\n",
              "      <td>2013</td>\n",
              "      <td>Public Protection</td>\n",
              "      <td>ADP</td>\n",
              "      <td>ADP Adult Probation</td>\n",
              "      <td>21.0</td>\n",
              "      <td>Prof &amp; Tech Engineers - Miscellaneous, Local 21</td>\n",
              "      <td>Information Systems</td>\n",
              "      <td>IS Programmer Analyst</td>\n",
              "      <td>37730</td>\n",
              "      <td>5084.00</td>\n",
              "      <td>0.0</td>\n",
              "      <td>0.00</td>\n",
              "      <td>5084.00</td>\n",
              "      <td>1083.90</td>\n",
              "      <td>956.91</td>\n",
              "      <td>387.50</td>\n",
              "      <td>2428.31</td>\n",
              "      <td>7512.31</td>\n",
              "    </tr>\n",
              "  </tbody>\n",
              "</table>\n",
              "</div>\n",
              "      <button class=\"colab-df-convert\" onclick=\"convertToInteractive('df-12924ce9-7213-46a5-a83e-1bd970f1fc1c')\"\n",
              "              title=\"Convert this dataframe to an interactive table.\"\n",
              "              style=\"display:none;\">\n",
              "        \n",
              "  <svg xmlns=\"http://www.w3.org/2000/svg\" height=\"24px\"viewBox=\"0 0 24 24\"\n",
              "       width=\"24px\">\n",
              "    <path d=\"M0 0h24v24H0V0z\" fill=\"none\"/>\n",
              "    <path d=\"M18.56 5.44l.94 2.06.94-2.06 2.06-.94-2.06-.94-.94-2.06-.94 2.06-2.06.94zm-11 1L8.5 8.5l.94-2.06 2.06-.94-2.06-.94L8.5 2.5l-.94 2.06-2.06.94zm10 10l.94 2.06.94-2.06 2.06-.94-2.06-.94-.94-2.06-.94 2.06-2.06.94z\"/><path d=\"M17.41 7.96l-1.37-1.37c-.4-.4-.92-.59-1.43-.59-.52 0-1.04.2-1.43.59L10.3 9.45l-7.72 7.72c-.78.78-.78 2.05 0 2.83L4 21.41c.39.39.9.59 1.41.59.51 0 1.02-.2 1.41-.59l7.78-7.78 2.81-2.81c.8-.78.8-2.07 0-2.86zM5.41 20L4 18.59l7.72-7.72 1.47 1.35L5.41 20z\"/>\n",
              "  </svg>\n",
              "      </button>\n",
              "      \n",
              "  <style>\n",
              "    .colab-df-container {\n",
              "      display:flex;\n",
              "      flex-wrap:wrap;\n",
              "      gap: 12px;\n",
              "    }\n",
              "\n",
              "    .colab-df-convert {\n",
              "      background-color: #E8F0FE;\n",
              "      border: none;\n",
              "      border-radius: 50%;\n",
              "      cursor: pointer;\n",
              "      display: none;\n",
              "      fill: #1967D2;\n",
              "      height: 32px;\n",
              "      padding: 0 0 0 0;\n",
              "      width: 32px;\n",
              "    }\n",
              "\n",
              "    .colab-df-convert:hover {\n",
              "      background-color: #E2EBFA;\n",
              "      box-shadow: 0px 1px 2px rgba(60, 64, 67, 0.3), 0px 1px 3px 1px rgba(60, 64, 67, 0.15);\n",
              "      fill: #174EA6;\n",
              "    }\n",
              "\n",
              "    [theme=dark] .colab-df-convert {\n",
              "      background-color: #3B4455;\n",
              "      fill: #D2E3FC;\n",
              "    }\n",
              "\n",
              "    [theme=dark] .colab-df-convert:hover {\n",
              "      background-color: #434B5C;\n",
              "      box-shadow: 0px 1px 3px 1px rgba(0, 0, 0, 0.15);\n",
              "      filter: drop-shadow(0px 1px 2px rgba(0, 0, 0, 0.3));\n",
              "      fill: #FFFFFF;\n",
              "    }\n",
              "  </style>\n",
              "\n",
              "      <script>\n",
              "        const buttonEl =\n",
              "          document.querySelector('#df-12924ce9-7213-46a5-a83e-1bd970f1fc1c button.colab-df-convert');\n",
              "        buttonEl.style.display =\n",
              "          google.colab.kernel.accessAllowed ? 'block' : 'none';\n",
              "\n",
              "        async function convertToInteractive(key) {\n",
              "          const element = document.querySelector('#df-12924ce9-7213-46a5-a83e-1bd970f1fc1c');\n",
              "          const dataTable =\n",
              "            await google.colab.kernel.invokeFunction('convertToInteractive',\n",
              "                                                     [key], {});\n",
              "          if (!dataTable) return;\n",
              "\n",
              "          const docLinkHtml = 'Like what you see? Visit the ' +\n",
              "            '<a target=\"_blank\" href=https://colab.research.google.com/notebooks/data_table.ipynb>data table notebook</a>'\n",
              "            + ' to learn more about interactive tables.';\n",
              "          element.innerHTML = '';\n",
              "          dataTable['output_type'] = 'display_data';\n",
              "          await google.colab.output.renderOutput(dataTable, element);\n",
              "          const docLink = document.createElement('div');\n",
              "          docLink.innerHTML = docLinkHtml;\n",
              "          element.appendChild(docLink);\n",
              "        }\n",
              "      </script>\n",
              "    </div>\n",
              "  </div>\n",
              "  "
            ],
            "text/plain": [
              "   Organization Group Code Job Family Code  ... Total Benefits Total Compensation\n",
              "0                        1            1000  ...       27747.13           85281.78\n",
              "1                        1            1000  ...       22216.82           79895.32\n",
              "2                        1            1000  ...       30116.78           93649.71\n",
              "3                        1            1000  ...       40021.45          134237.37\n",
              "4                        1            1000  ...        2428.31            7512.31\n",
              "\n",
              "[5 rows x 22 columns]"
            ]
          },
          "metadata": {},
          "execution_count": 3
        }
      ]
    },
    {
      "cell_type": "code",
      "source": [
        "data.shape"
      ],
      "metadata": {
        "colab": {
          "base_uri": "https://localhost:8080/"
        },
        "id": "o9l_Z5RfeWWA",
        "outputId": "cd8767be-addd-4317-d929-b553f4b2c0c8"
      },
      "execution_count": null,
      "outputs": [
        {
          "output_type": "execute_result",
          "data": {
            "text/plain": [
              "(683277, 22)"
            ]
          },
          "metadata": {},
          "execution_count": 4
        }
      ]
    },
    {
      "cell_type": "code",
      "source": [
        "data.describe().T"
      ],
      "metadata": {
        "colab": {
          "base_uri": "https://localhost:8080/",
          "height": 590
        },
        "id": "LldNiLXCeapq",
        "outputId": "f5e086f5-65dc-47a4-f485-7b1ad4a7f5ef"
      },
      "execution_count": null,
      "outputs": [
        {
          "output_type": "execute_result",
          "data": {
            "text/html": [
              "\n",
              "  <div id=\"df-e791bb4b-ac97-40db-b844-c59e446077c8\">\n",
              "    <div class=\"colab-df-container\">\n",
              "      <div>\n",
              "<style scoped>\n",
              "    .dataframe tbody tr th:only-of-type {\n",
              "        vertical-align: middle;\n",
              "    }\n",
              "\n",
              "    .dataframe tbody tr th {\n",
              "        vertical-align: top;\n",
              "    }\n",
              "\n",
              "    .dataframe thead th {\n",
              "        text-align: right;\n",
              "    }\n",
              "</style>\n",
              "<table border=\"1\" class=\"dataframe\">\n",
              "  <thead>\n",
              "    <tr style=\"text-align: right;\">\n",
              "      <th></th>\n",
              "      <th>count</th>\n",
              "      <th>mean</th>\n",
              "      <th>std</th>\n",
              "      <th>min</th>\n",
              "      <th>25%</th>\n",
              "      <th>50%</th>\n",
              "      <th>75%</th>\n",
              "      <th>max</th>\n",
              "    </tr>\n",
              "  </thead>\n",
              "  <tbody>\n",
              "    <tr>\n",
              "      <th>Organization Group Code</th>\n",
              "      <td>683277.0</td>\n",
              "      <td>2.977943e+00</td>\n",
              "      <td>1.579574e+00</td>\n",
              "      <td>1.00</td>\n",
              "      <td>2.00</td>\n",
              "      <td>2.00</td>\n",
              "      <td>4.00</td>\n",
              "      <td>7.00</td>\n",
              "    </tr>\n",
              "    <tr>\n",
              "      <th>Year</th>\n",
              "      <td>683277.0</td>\n",
              "      <td>2.016365e+03</td>\n",
              "      <td>2.092180e+00</td>\n",
              "      <td>2013.00</td>\n",
              "      <td>2015.00</td>\n",
              "      <td>2017.00</td>\n",
              "      <td>2018.00</td>\n",
              "      <td>2020.00</td>\n",
              "    </tr>\n",
              "    <tr>\n",
              "      <th>Union Code</th>\n",
              "      <td>682926.0</td>\n",
              "      <td>4.925322e+02</td>\n",
              "      <td>3.309112e+02</td>\n",
              "      <td>1.00</td>\n",
              "      <td>250.00</td>\n",
              "      <td>535.00</td>\n",
              "      <td>790.00</td>\n",
              "      <td>990.00</td>\n",
              "    </tr>\n",
              "    <tr>\n",
              "      <th>Employee Identifier</th>\n",
              "      <td>683277.0</td>\n",
              "      <td>1.708711e+07</td>\n",
              "      <td>1.925902e+07</td>\n",
              "      <td>0.00</td>\n",
              "      <td>25450.00</td>\n",
              "      <td>50975.00</td>\n",
              "      <td>37377031.00</td>\n",
              "      <td>44346433.00</td>\n",
              "    </tr>\n",
              "    <tr>\n",
              "      <th>Salaries</th>\n",
              "      <td>683277.0</td>\n",
              "      <td>6.946627e+04</td>\n",
              "      <td>4.777180e+04</td>\n",
              "      <td>-68771.78</td>\n",
              "      <td>29009.54</td>\n",
              "      <td>67899.36</td>\n",
              "      <td>100416.89</td>\n",
              "      <td>651936.71</td>\n",
              "    </tr>\n",
              "    <tr>\n",
              "      <th>Overtime</th>\n",
              "      <td>683277.0</td>\n",
              "      <td>5.474598e+03</td>\n",
              "      <td>1.311003e+04</td>\n",
              "      <td>-12308.66</td>\n",
              "      <td>0.00</td>\n",
              "      <td>0.00</td>\n",
              "      <td>4223.39</td>\n",
              "      <td>321523.31</td>\n",
              "    </tr>\n",
              "    <tr>\n",
              "      <th>Other Salaries</th>\n",
              "      <td>683277.0</td>\n",
              "      <td>3.820481e+03</td>\n",
              "      <td>8.386603e+03</td>\n",
              "      <td>-19131.10</td>\n",
              "      <td>0.00</td>\n",
              "      <td>706.24</td>\n",
              "      <td>4362.88</td>\n",
              "      <td>568163.12</td>\n",
              "    </tr>\n",
              "    <tr>\n",
              "      <th>Total Salary</th>\n",
              "      <td>683277.0</td>\n",
              "      <td>7.857104e+04</td>\n",
              "      <td>5.575122e+04</td>\n",
              "      <td>-68771.78</td>\n",
              "      <td>31676.04</td>\n",
              "      <td>74870.42</td>\n",
              "      <td>112666.10</td>\n",
              "      <td>658867.57</td>\n",
              "    </tr>\n",
              "    <tr>\n",
              "      <th>Retirement</th>\n",
              "      <td>683277.0</td>\n",
              "      <td>1.365890e+04</td>\n",
              "      <td>1.011008e+04</td>\n",
              "      <td>-30621.43</td>\n",
              "      <td>4662.96</td>\n",
              "      <td>13858.16</td>\n",
              "      <td>20151.85</td>\n",
              "      <td>121952.52</td>\n",
              "    </tr>\n",
              "    <tr>\n",
              "      <th>Health and Dental</th>\n",
              "      <td>683277.0</td>\n",
              "      <td>9.946865e+03</td>\n",
              "      <td>5.732982e+03</td>\n",
              "      <td>-3831.09</td>\n",
              "      <td>4780.68</td>\n",
              "      <td>12500.59</td>\n",
              "      <td>14037.16</td>\n",
              "      <td>59405.23</td>\n",
              "    </tr>\n",
              "    <tr>\n",
              "      <th>Other Benefits</th>\n",
              "      <td>683277.0</td>\n",
              "      <td>5.038754e+03</td>\n",
              "      <td>3.787981e+03</td>\n",
              "      <td>-10636.50</td>\n",
              "      <td>1870.41</td>\n",
              "      <td>4876.55</td>\n",
              "      <td>7525.56</td>\n",
              "      <td>36815.39</td>\n",
              "    </tr>\n",
              "    <tr>\n",
              "      <th>Total Benefits</th>\n",
              "      <td>683277.0</td>\n",
              "      <td>2.864452e+04</td>\n",
              "      <td>1.786971e+04</td>\n",
              "      <td>-21295.15</td>\n",
              "      <td>11716.23</td>\n",
              "      <td>32521.37</td>\n",
              "      <td>40915.93</td>\n",
              "      <td>151645.18</td>\n",
              "    </tr>\n",
              "    <tr>\n",
              "      <th>Total Compensation</th>\n",
              "      <td>683277.0</td>\n",
              "      <td>1.072156e+05</td>\n",
              "      <td>7.229171e+04</td>\n",
              "      <td>-74082.61</td>\n",
              "      <td>44439.44</td>\n",
              "      <td>107529.24</td>\n",
              "      <td>154170.54</td>\n",
              "      <td>807625.25</td>\n",
              "    </tr>\n",
              "  </tbody>\n",
              "</table>\n",
              "</div>\n",
              "      <button class=\"colab-df-convert\" onclick=\"convertToInteractive('df-e791bb4b-ac97-40db-b844-c59e446077c8')\"\n",
              "              title=\"Convert this dataframe to an interactive table.\"\n",
              "              style=\"display:none;\">\n",
              "        \n",
              "  <svg xmlns=\"http://www.w3.org/2000/svg\" height=\"24px\"viewBox=\"0 0 24 24\"\n",
              "       width=\"24px\">\n",
              "    <path d=\"M0 0h24v24H0V0z\" fill=\"none\"/>\n",
              "    <path d=\"M18.56 5.44l.94 2.06.94-2.06 2.06-.94-2.06-.94-.94-2.06-.94 2.06-2.06.94zm-11 1L8.5 8.5l.94-2.06 2.06-.94-2.06-.94L8.5 2.5l-.94 2.06-2.06.94zm10 10l.94 2.06.94-2.06 2.06-.94-2.06-.94-.94-2.06-.94 2.06-2.06.94z\"/><path d=\"M17.41 7.96l-1.37-1.37c-.4-.4-.92-.59-1.43-.59-.52 0-1.04.2-1.43.59L10.3 9.45l-7.72 7.72c-.78.78-.78 2.05 0 2.83L4 21.41c.39.39.9.59 1.41.59.51 0 1.02-.2 1.41-.59l7.78-7.78 2.81-2.81c.8-.78.8-2.07 0-2.86zM5.41 20L4 18.59l7.72-7.72 1.47 1.35L5.41 20z\"/>\n",
              "  </svg>\n",
              "      </button>\n",
              "      \n",
              "  <style>\n",
              "    .colab-df-container {\n",
              "      display:flex;\n",
              "      flex-wrap:wrap;\n",
              "      gap: 12px;\n",
              "    }\n",
              "\n",
              "    .colab-df-convert {\n",
              "      background-color: #E8F0FE;\n",
              "      border: none;\n",
              "      border-radius: 50%;\n",
              "      cursor: pointer;\n",
              "      display: none;\n",
              "      fill: #1967D2;\n",
              "      height: 32px;\n",
              "      padding: 0 0 0 0;\n",
              "      width: 32px;\n",
              "    }\n",
              "\n",
              "    .colab-df-convert:hover {\n",
              "      background-color: #E2EBFA;\n",
              "      box-shadow: 0px 1px 2px rgba(60, 64, 67, 0.3), 0px 1px 3px 1px rgba(60, 64, 67, 0.15);\n",
              "      fill: #174EA6;\n",
              "    }\n",
              "\n",
              "    [theme=dark] .colab-df-convert {\n",
              "      background-color: #3B4455;\n",
              "      fill: #D2E3FC;\n",
              "    }\n",
              "\n",
              "    [theme=dark] .colab-df-convert:hover {\n",
              "      background-color: #434B5C;\n",
              "      box-shadow: 0px 1px 3px 1px rgba(0, 0, 0, 0.15);\n",
              "      filter: drop-shadow(0px 1px 2px rgba(0, 0, 0, 0.3));\n",
              "      fill: #FFFFFF;\n",
              "    }\n",
              "  </style>\n",
              "\n",
              "      <script>\n",
              "        const buttonEl =\n",
              "          document.querySelector('#df-e791bb4b-ac97-40db-b844-c59e446077c8 button.colab-df-convert');\n",
              "        buttonEl.style.display =\n",
              "          google.colab.kernel.accessAllowed ? 'block' : 'none';\n",
              "\n",
              "        async function convertToInteractive(key) {\n",
              "          const element = document.querySelector('#df-e791bb4b-ac97-40db-b844-c59e446077c8');\n",
              "          const dataTable =\n",
              "            await google.colab.kernel.invokeFunction('convertToInteractive',\n",
              "                                                     [key], {});\n",
              "          if (!dataTable) return;\n",
              "\n",
              "          const docLinkHtml = 'Like what you see? Visit the ' +\n",
              "            '<a target=\"_blank\" href=https://colab.research.google.com/notebooks/data_table.ipynb>data table notebook</a>'\n",
              "            + ' to learn more about interactive tables.';\n",
              "          element.innerHTML = '';\n",
              "          dataTable['output_type'] = 'display_data';\n",
              "          await google.colab.output.renderOutput(dataTable, element);\n",
              "          const docLink = document.createElement('div');\n",
              "          docLink.innerHTML = docLinkHtml;\n",
              "          element.appendChild(docLink);\n",
              "        }\n",
              "      </script>\n",
              "    </div>\n",
              "  </div>\n",
              "  "
            ],
            "text/plain": [
              "                            count          mean  ...          75%          max\n",
              "Organization Group Code  683277.0  2.977943e+00  ...         4.00         7.00\n",
              "Year                     683277.0  2.016365e+03  ...      2018.00      2020.00\n",
              "Union Code               682926.0  4.925322e+02  ...       790.00       990.00\n",
              "Employee Identifier      683277.0  1.708711e+07  ...  37377031.00  44346433.00\n",
              "Salaries                 683277.0  6.946627e+04  ...    100416.89    651936.71\n",
              "Overtime                 683277.0  5.474598e+03  ...      4223.39    321523.31\n",
              "Other Salaries           683277.0  3.820481e+03  ...      4362.88    568163.12\n",
              "Total Salary             683277.0  7.857104e+04  ...    112666.10    658867.57\n",
              "Retirement               683277.0  1.365890e+04  ...     20151.85    121952.52\n",
              "Health and Dental        683277.0  9.946865e+03  ...     14037.16     59405.23\n",
              "Other Benefits           683277.0  5.038754e+03  ...      7525.56     36815.39\n",
              "Total Benefits           683277.0  2.864452e+04  ...     40915.93    151645.18\n",
              "Total Compensation       683277.0  1.072156e+05  ...    154170.54    807625.25\n",
              "\n",
              "[13 rows x 8 columns]"
            ]
          },
          "metadata": {},
          "execution_count": 5
        }
      ]
    },
    {
      "cell_type": "code",
      "source": [
        "data.dtypes"
      ],
      "metadata": {
        "colab": {
          "base_uri": "https://localhost:8080/"
        },
        "id": "TeamDdxqfcdh",
        "outputId": "a9dc6215-50ac-4a21-badb-c8e99adb7406"
      },
      "execution_count": null,
      "outputs": [
        {
          "output_type": "execute_result",
          "data": {
            "text/plain": [
              "Organization Group Code      int64\n",
              "Job Family Code             object\n",
              "Job Code                    object\n",
              "Year Type                   object\n",
              "Year                         int64\n",
              "Organization Group          object\n",
              "Department Code             object\n",
              "Department                  object\n",
              "Union Code                 float64\n",
              "Union                       object\n",
              "Job Family                  object\n",
              "Job                         object\n",
              "Employee Identifier          int64\n",
              "Salaries                   float64\n",
              "Overtime                   float64\n",
              "Other Salaries             float64\n",
              "Total Salary               float64\n",
              "Retirement                 float64\n",
              "Health and Dental          float64\n",
              "Other Benefits             float64\n",
              "Total Benefits             float64\n",
              "Total Compensation         float64\n",
              "dtype: object"
            ]
          },
          "metadata": {},
          "execution_count": 6
        }
      ]
    },
    {
      "cell_type": "code",
      "source": [
        "data_corr=data.corr()\n",
        "data_corr"
      ],
      "metadata": {
        "colab": {
          "base_uri": "https://localhost:8080/",
          "height": 625
        },
        "id": "TU__ojGphrED",
        "outputId": "9237fe03-797d-4711-8546-1043b9b6593e"
      },
      "execution_count": null,
      "outputs": [
        {
          "output_type": "execute_result",
          "data": {
            "text/html": [
              "\n",
              "  <div id=\"df-335294d2-7ef8-4dd1-8b9c-1b6a1de06887\">\n",
              "    <div class=\"colab-df-container\">\n",
              "      <div>\n",
              "<style scoped>\n",
              "    .dataframe tbody tr th:only-of-type {\n",
              "        vertical-align: middle;\n",
              "    }\n",
              "\n",
              "    .dataframe tbody tr th {\n",
              "        vertical-align: top;\n",
              "    }\n",
              "\n",
              "    .dataframe thead th {\n",
              "        text-align: right;\n",
              "    }\n",
              "</style>\n",
              "<table border=\"1\" class=\"dataframe\">\n",
              "  <thead>\n",
              "    <tr style=\"text-align: right;\">\n",
              "      <th></th>\n",
              "      <th>Organization Group Code</th>\n",
              "      <th>Year</th>\n",
              "      <th>Union Code</th>\n",
              "      <th>Employee Identifier</th>\n",
              "      <th>Salaries</th>\n",
              "      <th>Overtime</th>\n",
              "      <th>Other Salaries</th>\n",
              "      <th>Total Salary</th>\n",
              "      <th>Retirement</th>\n",
              "      <th>Health and Dental</th>\n",
              "      <th>Other Benefits</th>\n",
              "      <th>Total Benefits</th>\n",
              "      <th>Total Compensation</th>\n",
              "    </tr>\n",
              "  </thead>\n",
              "  <tbody>\n",
              "    <tr>\n",
              "      <th>Organization Group Code</th>\n",
              "      <td>1.000000</td>\n",
              "      <td>-0.000707</td>\n",
              "      <td>-0.007614</td>\n",
              "      <td>-0.000483</td>\n",
              "      <td>-0.192644</td>\n",
              "      <td>-0.297225</td>\n",
              "      <td>-0.199240</td>\n",
              "      <td>-0.264133</td>\n",
              "      <td>-0.234457</td>\n",
              "      <td>-0.226974</td>\n",
              "      <td>0.032476</td>\n",
              "      <td>-0.198581</td>\n",
              "      <td>-0.252786</td>\n",
              "    </tr>\n",
              "    <tr>\n",
              "      <th>Year</th>\n",
              "      <td>-0.000707</td>\n",
              "      <td>1.000000</td>\n",
              "      <td>0.005063</td>\n",
              "      <td>0.838653</td>\n",
              "      <td>0.125284</td>\n",
              "      <td>0.080808</td>\n",
              "      <td>0.006865</td>\n",
              "      <td>0.124137</td>\n",
              "      <td>0.100216</td>\n",
              "      <td>0.161185</td>\n",
              "      <td>0.102326</td>\n",
              "      <td>0.130101</td>\n",
              "      <td>0.127894</td>\n",
              "    </tr>\n",
              "    <tr>\n",
              "      <th>Union Code</th>\n",
              "      <td>-0.007614</td>\n",
              "      <td>0.005063</td>\n",
              "      <td>1.000000</td>\n",
              "      <td>0.006614</td>\n",
              "      <td>-0.095213</td>\n",
              "      <td>0.059542</td>\n",
              "      <td>0.126444</td>\n",
              "      <td>-0.048234</td>\n",
              "      <td>-0.108697</td>\n",
              "      <td>-0.105928</td>\n",
              "      <td>-0.325772</td>\n",
              "      <td>-0.164550</td>\n",
              "      <td>-0.077872</td>\n",
              "    </tr>\n",
              "    <tr>\n",
              "      <th>Employee Identifier</th>\n",
              "      <td>-0.000483</td>\n",
              "      <td>0.838653</td>\n",
              "      <td>0.006614</td>\n",
              "      <td>1.000000</td>\n",
              "      <td>0.130882</td>\n",
              "      <td>0.081802</td>\n",
              "      <td>0.007155</td>\n",
              "      <td>0.128645</td>\n",
              "      <td>0.103993</td>\n",
              "      <td>0.174044</td>\n",
              "      <td>0.094587</td>\n",
              "      <td>0.134723</td>\n",
              "      <td>0.132513</td>\n",
              "    </tr>\n",
              "    <tr>\n",
              "      <th>Salaries</th>\n",
              "      <td>-0.192644</td>\n",
              "      <td>0.125284</td>\n",
              "      <td>-0.095213</td>\n",
              "      <td>0.130882</td>\n",
              "      <td>1.000000</td>\n",
              "      <td>0.259388</td>\n",
              "      <td>0.256029</td>\n",
              "      <td>0.957367</td>\n",
              "      <td>0.947414</td>\n",
              "      <td>0.758175</td>\n",
              "      <td>0.727234</td>\n",
              "      <td>0.933410</td>\n",
              "      <td>0.969048</td>\n",
              "    </tr>\n",
              "    <tr>\n",
              "      <th>Overtime</th>\n",
              "      <td>-0.297225</td>\n",
              "      <td>0.080808</td>\n",
              "      <td>0.059542</td>\n",
              "      <td>0.081802</td>\n",
              "      <td>0.259388</td>\n",
              "      <td>1.000000</td>\n",
              "      <td>0.291799</td>\n",
              "      <td>0.501886</td>\n",
              "      <td>0.311104</td>\n",
              "      <td>0.299804</td>\n",
              "      <td>0.091990</td>\n",
              "      <td>0.291696</td>\n",
              "      <td>0.459157</td>\n",
              "    </tr>\n",
              "    <tr>\n",
              "      <th>Other Salaries</th>\n",
              "      <td>-0.199240</td>\n",
              "      <td>0.006865</td>\n",
              "      <td>0.126444</td>\n",
              "      <td>0.007155</td>\n",
              "      <td>0.256029</td>\n",
              "      <td>0.291799</td>\n",
              "      <td>1.000000</td>\n",
              "      <td>0.415493</td>\n",
              "      <td>0.279956</td>\n",
              "      <td>0.155871</td>\n",
              "      <td>0.051601</td>\n",
              "      <td>0.219334</td>\n",
              "      <td>0.374644</td>\n",
              "    </tr>\n",
              "    <tr>\n",
              "      <th>Total Salary</th>\n",
              "      <td>-0.264133</td>\n",
              "      <td>0.124137</td>\n",
              "      <td>-0.048234</td>\n",
              "      <td>0.128645</td>\n",
              "      <td>0.957367</td>\n",
              "      <td>0.501886</td>\n",
              "      <td>0.415493</td>\n",
              "      <td>1.000000</td>\n",
              "      <td>0.928071</td>\n",
              "      <td>0.745430</td>\n",
              "      <td>0.653085</td>\n",
              "      <td>0.902661</td>\n",
              "      <td>0.994326</td>\n",
              "    </tr>\n",
              "    <tr>\n",
              "      <th>Retirement</th>\n",
              "      <td>-0.234457</td>\n",
              "      <td>0.100216</td>\n",
              "      <td>-0.108697</td>\n",
              "      <td>0.103993</td>\n",
              "      <td>0.947414</td>\n",
              "      <td>0.311104</td>\n",
              "      <td>0.279956</td>\n",
              "      <td>0.928071</td>\n",
              "      <td>1.000000</td>\n",
              "      <td>0.782788</td>\n",
              "      <td>0.677955</td>\n",
              "      <td>0.960612</td>\n",
              "      <td>0.953180</td>\n",
              "    </tr>\n",
              "    <tr>\n",
              "      <th>Health and Dental</th>\n",
              "      <td>-0.226974</td>\n",
              "      <td>0.161185</td>\n",
              "      <td>-0.105928</td>\n",
              "      <td>0.174044</td>\n",
              "      <td>0.758175</td>\n",
              "      <td>0.299804</td>\n",
              "      <td>0.155871</td>\n",
              "      <td>0.745430</td>\n",
              "      <td>0.782788</td>\n",
              "      <td>1.000000</td>\n",
              "      <td>0.626897</td>\n",
              "      <td>0.896584</td>\n",
              "      <td>0.796500</td>\n",
              "    </tr>\n",
              "    <tr>\n",
              "      <th>Other Benefits</th>\n",
              "      <td>0.032476</td>\n",
              "      <td>0.102326</td>\n",
              "      <td>-0.325772</td>\n",
              "      <td>0.094587</td>\n",
              "      <td>0.727234</td>\n",
              "      <td>0.091990</td>\n",
              "      <td>0.051601</td>\n",
              "      <td>0.653085</td>\n",
              "      <td>0.677955</td>\n",
              "      <td>0.626897</td>\n",
              "      <td>1.000000</td>\n",
              "      <td>0.796664</td>\n",
              "      <td>0.700585</td>\n",
              "    </tr>\n",
              "    <tr>\n",
              "      <th>Total Benefits</th>\n",
              "      <td>-0.198581</td>\n",
              "      <td>0.130101</td>\n",
              "      <td>-0.164550</td>\n",
              "      <td>0.134723</td>\n",
              "      <td>0.933410</td>\n",
              "      <td>0.291696</td>\n",
              "      <td>0.219334</td>\n",
              "      <td>0.902661</td>\n",
              "      <td>0.960612</td>\n",
              "      <td>0.896584</td>\n",
              "      <td>0.796664</td>\n",
              "      <td>1.000000</td>\n",
              "      <td>0.943319</td>\n",
              "    </tr>\n",
              "    <tr>\n",
              "      <th>Total Compensation</th>\n",
              "      <td>-0.252786</td>\n",
              "      <td>0.127894</td>\n",
              "      <td>-0.077872</td>\n",
              "      <td>0.132513</td>\n",
              "      <td>0.969048</td>\n",
              "      <td>0.459157</td>\n",
              "      <td>0.374644</td>\n",
              "      <td>0.994326</td>\n",
              "      <td>0.953180</td>\n",
              "      <td>0.796500</td>\n",
              "      <td>0.700585</td>\n",
              "      <td>0.943319</td>\n",
              "      <td>1.000000</td>\n",
              "    </tr>\n",
              "  </tbody>\n",
              "</table>\n",
              "</div>\n",
              "      <button class=\"colab-df-convert\" onclick=\"convertToInteractive('df-335294d2-7ef8-4dd1-8b9c-1b6a1de06887')\"\n",
              "              title=\"Convert this dataframe to an interactive table.\"\n",
              "              style=\"display:none;\">\n",
              "        \n",
              "  <svg xmlns=\"http://www.w3.org/2000/svg\" height=\"24px\"viewBox=\"0 0 24 24\"\n",
              "       width=\"24px\">\n",
              "    <path d=\"M0 0h24v24H0V0z\" fill=\"none\"/>\n",
              "    <path d=\"M18.56 5.44l.94 2.06.94-2.06 2.06-.94-2.06-.94-.94-2.06-.94 2.06-2.06.94zm-11 1L8.5 8.5l.94-2.06 2.06-.94-2.06-.94L8.5 2.5l-.94 2.06-2.06.94zm10 10l.94 2.06.94-2.06 2.06-.94-2.06-.94-.94-2.06-.94 2.06-2.06.94z\"/><path d=\"M17.41 7.96l-1.37-1.37c-.4-.4-.92-.59-1.43-.59-.52 0-1.04.2-1.43.59L10.3 9.45l-7.72 7.72c-.78.78-.78 2.05 0 2.83L4 21.41c.39.39.9.59 1.41.59.51 0 1.02-.2 1.41-.59l7.78-7.78 2.81-2.81c.8-.78.8-2.07 0-2.86zM5.41 20L4 18.59l7.72-7.72 1.47 1.35L5.41 20z\"/>\n",
              "  </svg>\n",
              "      </button>\n",
              "      \n",
              "  <style>\n",
              "    .colab-df-container {\n",
              "      display:flex;\n",
              "      flex-wrap:wrap;\n",
              "      gap: 12px;\n",
              "    }\n",
              "\n",
              "    .colab-df-convert {\n",
              "      background-color: #E8F0FE;\n",
              "      border: none;\n",
              "      border-radius: 50%;\n",
              "      cursor: pointer;\n",
              "      display: none;\n",
              "      fill: #1967D2;\n",
              "      height: 32px;\n",
              "      padding: 0 0 0 0;\n",
              "      width: 32px;\n",
              "    }\n",
              "\n",
              "    .colab-df-convert:hover {\n",
              "      background-color: #E2EBFA;\n",
              "      box-shadow: 0px 1px 2px rgba(60, 64, 67, 0.3), 0px 1px 3px 1px rgba(60, 64, 67, 0.15);\n",
              "      fill: #174EA6;\n",
              "    }\n",
              "\n",
              "    [theme=dark] .colab-df-convert {\n",
              "      background-color: #3B4455;\n",
              "      fill: #D2E3FC;\n",
              "    }\n",
              "\n",
              "    [theme=dark] .colab-df-convert:hover {\n",
              "      background-color: #434B5C;\n",
              "      box-shadow: 0px 1px 3px 1px rgba(0, 0, 0, 0.15);\n",
              "      filter: drop-shadow(0px 1px 2px rgba(0, 0, 0, 0.3));\n",
              "      fill: #FFFFFF;\n",
              "    }\n",
              "  </style>\n",
              "\n",
              "      <script>\n",
              "        const buttonEl =\n",
              "          document.querySelector('#df-335294d2-7ef8-4dd1-8b9c-1b6a1de06887 button.colab-df-convert');\n",
              "        buttonEl.style.display =\n",
              "          google.colab.kernel.accessAllowed ? 'block' : 'none';\n",
              "\n",
              "        async function convertToInteractive(key) {\n",
              "          const element = document.querySelector('#df-335294d2-7ef8-4dd1-8b9c-1b6a1de06887');\n",
              "          const dataTable =\n",
              "            await google.colab.kernel.invokeFunction('convertToInteractive',\n",
              "                                                     [key], {});\n",
              "          if (!dataTable) return;\n",
              "\n",
              "          const docLinkHtml = 'Like what you see? Visit the ' +\n",
              "            '<a target=\"_blank\" href=https://colab.research.google.com/notebooks/data_table.ipynb>data table notebook</a>'\n",
              "            + ' to learn more about interactive tables.';\n",
              "          element.innerHTML = '';\n",
              "          dataTable['output_type'] = 'display_data';\n",
              "          await google.colab.output.renderOutput(dataTable, element);\n",
              "          const docLink = document.createElement('div');\n",
              "          docLink.innerHTML = docLinkHtml;\n",
              "          element.appendChild(docLink);\n",
              "        }\n",
              "      </script>\n",
              "    </div>\n",
              "  </div>\n",
              "  "
            ],
            "text/plain": [
              "                         Organization Group Code  ...  Total Compensation\n",
              "Organization Group Code                 1.000000  ...           -0.252786\n",
              "Year                                   -0.000707  ...            0.127894\n",
              "Union Code                             -0.007614  ...           -0.077872\n",
              "Employee Identifier                    -0.000483  ...            0.132513\n",
              "Salaries                               -0.192644  ...            0.969048\n",
              "Overtime                               -0.297225  ...            0.459157\n",
              "Other Salaries                         -0.199240  ...            0.374644\n",
              "Total Salary                           -0.264133  ...            0.994326\n",
              "Retirement                             -0.234457  ...            0.953180\n",
              "Health and Dental                      -0.226974  ...            0.796500\n",
              "Other Benefits                          0.032476  ...            0.700585\n",
              "Total Benefits                         -0.198581  ...            0.943319\n",
              "Total Compensation                     -0.252786  ...            1.000000\n",
              "\n",
              "[13 rows x 13 columns]"
            ]
          },
          "metadata": {},
          "execution_count": 7
        }
      ]
    },
    {
      "cell_type": "code",
      "source": [
        "plt.figure(figsize=(12,8))\n",
        "sns.heatmap(data_corr, annot=True, cmap='coolwarm')\n",
        "plt.show()"
      ],
      "metadata": {
        "colab": {
          "base_uri": "https://localhost:8080/",
          "height": 497
        },
        "id": "qcAXTSSTjL6Q",
        "outputId": "d8ea4129-257f-42ae-8529-751b488740a2"
      },
      "execution_count": null,
      "outputs": [
        {
          "output_type": "display_data",
          "data": {
            "image/png": "[encoded data removed]",
            "text/plain": [
              "<Figure size 864x576 with 2 Axes>"
            ]
          },
          "metadata": {
            "needs_background": "light"
          }
        }
      ]
    },
    {
      "cell_type": "code",
      "source": [
        "missing_value=data.isna().sum()\n",
        "missing_value"
      ],
      "metadata": {
        "colab": {
          "base_uri": "https://localhost:8080/"
        },
        "id": "cgZZ72XGerqX",
        "outputId": "ff407061-2bda-46a7-c0ef-672281dfa569"
      },
      "execution_count": null,
      "outputs": [
        {
          "output_type": "execute_result",
          "data": {
            "text/plain": [
              "Organization Group Code      0\n",
              "Job Family Code              0\n",
              "Job Code                     0\n",
              "Year Type                    0\n",
              "Year                         0\n",
              "Organization Group           0\n",
              "Department Code              2\n",
              "Department                   2\n",
              "Union Code                 351\n",
              "Union                      351\n",
              "Job Family                   0\n",
              "Job                          5\n",
              "Employee Identifier          0\n",
              "Salaries                     0\n",
              "Overtime                     0\n",
              "Other Salaries               0\n",
              "Total Salary                 0\n",
              "Retirement                   0\n",
              "Health and Dental            0\n",
              "Other Benefits               0\n",
              "Total Benefits               0\n",
              "Total Compensation           0\n",
              "dtype: int64"
            ]
          },
          "metadata": {},
          "execution_count": 9
        }
      ]
    },
    {
      "cell_type": "code",
      "source": [
        "data=data.dropna()"
      ],
      "metadata": {
        "id": "ABBo2XLNiqZ8"
      },
      "execution_count": null,
      "outputs": []
    },
    {
      "cell_type": "code",
      "source": [
        "data.isna().sum()"
      ],
      "metadata": {
        "colab": {
          "base_uri": "https://localhost:8080/"
        },
        "id": "1PN-auMln55U",
        "outputId": "af22e437-cb37-4375-cae2-4bfd7fe57aba"
      },
      "execution_count": null,
      "outputs": [
        {
          "output_type": "execute_result",
          "data": {
            "text/plain": [
              "Organization Group Code    0\n",
              "Job Family Code            0\n",
              "Job Code                   0\n",
              "Year Type                  0\n",
              "Year                       0\n",
              "Organization Group         0\n",
              "Department Code            0\n",
              "Department                 0\n",
              "Union Code                 0\n",
              "Union                      0\n",
              "Job Family                 0\n",
              "Job                        0\n",
              "Employee Identifier        0\n",
              "Salaries                   0\n",
              "Overtime                   0\n",
              "Other Salaries             0\n",
              "Total Salary               0\n",
              "Retirement                 0\n",
              "Health and Dental          0\n",
              "Other Benefits             0\n",
              "Total Benefits             0\n",
              "Total Compensation         0\n",
              "dtype: int64"
            ]
          },
          "metadata": {},
          "execution_count": 11
        }
      ]
    },
    {
      "cell_type": "code",
      "source": [
        "data.drop(['Total Salary','Salaries','Retirement','Total Benefits'], axis = 1, inplace=True)"
      ],
      "metadata": {
        "id": "6if5T1Y5n_6O"
      },
      "execution_count": null,
      "outputs": []
    },
    {
      "cell_type": "code",
      "source": [
        "data.columns"
      ],
      "metadata": {
        "colab": {
          "base_uri": "https://localhost:8080/"
        },
        "id": "WxHLys8dpT50",
        "outputId": "6f339a60-91a7-4472-a5e9-4d29b951bf77"
      },
      "execution_count": null,
      "outputs": [
        {
          "output_type": "execute_result",
          "data": {
            "text/plain": [
              "Index(['Organization Group Code', 'Job Family Code', 'Job Code', 'Year Type',\n",
              "       'Year', 'Organization Group', 'Department Code', 'Department',\n",
              "       'Union Code', 'Union', 'Job Family', 'Job', 'Employee Identifier',\n",
              "       'Overtime', 'Other Salaries', 'Health and Dental', 'Other Benefits',\n",
              "       'Total Compensation'],\n",
              "      dtype='object')"
            ]
          },
          "metadata": {},
          "execution_count": 13
        }
      ]
    },
    {
      "cell_type": "code",
      "source": [
        "data.drop(['Year Type', 'Organization Group', 'Department Code', 'Department','Union Code', 'Union', 'Job Family', 'Job'], axis= 1, inplace=True)"
      ],
      "metadata": {
        "id": "aMGNhv-CpMWY"
      },
      "execution_count": null,
      "outputs": []
    },
    {
      "cell_type": "code",
      "source": [
        "data.head()"
      ],
      "metadata": {
        "colab": {
          "base_uri": "https://localhost:8080/",
          "height": 305
        },
        "id": "JEXw15BHojM7",
        "outputId": "3e05586f-bd09-4e7d-9210-e7e12fe2ac01"
      },
      "execution_count": null,
      "outputs": [
        {
          "output_type": "execute_result",
          "data": {
            "text/html": [
              "\n",
              "  <div id=\"df-7f364dfb-dbb2-432b-a264-840929e8e33e\">\n",
              "    <div class=\"colab-df-container\">\n",
              "      <div>\n",
              "<style scoped>\n",
              "    .dataframe tbody tr th:only-of-type {\n",
              "        vertical-align: middle;\n",
              "    }\n",
              "\n",
              "    .dataframe tbody tr th {\n",
              "        vertical-align: top;\n",
              "    }\n",
              "\n",
              "    .dataframe thead th {\n",
              "        text-align: right;\n",
              "    }\n",
              "</style>\n",
              "<table border=\"1\" class=\"dataframe\">\n",
              "  <thead>\n",
              "    <tr style=\"text-align: right;\">\n",
              "      <th></th>\n",
              "      <th>Organization Group Code</th>\n",
              "      <th>Job Family Code</th>\n",
              "      <th>Job Code</th>\n",
              "      <th>Year</th>\n",
              "      <th>Employee Identifier</th>\n",
              "      <th>Overtime</th>\n",
              "      <th>Other Salaries</th>\n",
              "      <th>Health and Dental</th>\n",
              "      <th>Other Benefits</th>\n",
              "      <th>Total Compensation</th>\n",
              "    </tr>\n",
              "  </thead>\n",
              "  <tbody>\n",
              "    <tr>\n",
              "      <th>0</th>\n",
              "      <td>1</td>\n",
              "      <td>1000</td>\n",
              "      <td>1021</td>\n",
              "      <td>2013</td>\n",
              "      <td>37730</td>\n",
              "      <td>0.0</td>\n",
              "      <td>0.00</td>\n",
              "      <td>11961.34</td>\n",
              "      <td>4532.63</td>\n",
              "      <td>85281.78</td>\n",
              "    </tr>\n",
              "    <tr>\n",
              "      <th>1</th>\n",
              "      <td>1</td>\n",
              "      <td>1000</td>\n",
              "      <td>1023</td>\n",
              "      <td>2013</td>\n",
              "      <td>26574</td>\n",
              "      <td>0.0</td>\n",
              "      <td>0.00</td>\n",
              "      <td>7176.80</td>\n",
              "      <td>4755.14</td>\n",
              "      <td>79895.32</td>\n",
              "    </tr>\n",
              "    <tr>\n",
              "      <th>2</th>\n",
              "      <td>1</td>\n",
              "      <td>1000</td>\n",
              "      <td>1031</td>\n",
              "      <td>2013</td>\n",
              "      <td>8148</td>\n",
              "      <td>0.0</td>\n",
              "      <td>0.00</td>\n",
              "      <td>12918.24</td>\n",
              "      <td>4702.71</td>\n",
              "      <td>93649.71</td>\n",
              "    </tr>\n",
              "    <tr>\n",
              "      <th>3</th>\n",
              "      <td>1</td>\n",
              "      <td>1000</td>\n",
              "      <td>1054</td>\n",
              "      <td>2013</td>\n",
              "      <td>27436</td>\n",
              "      <td>0.0</td>\n",
              "      <td>-7058.59</td>\n",
              "      <td>12918.24</td>\n",
              "      <td>7458.76</td>\n",
              "      <td>134237.37</td>\n",
              "    </tr>\n",
              "    <tr>\n",
              "      <th>4</th>\n",
              "      <td>1</td>\n",
              "      <td>1000</td>\n",
              "      <td>1062</td>\n",
              "      <td>2013</td>\n",
              "      <td>37730</td>\n",
              "      <td>0.0</td>\n",
              "      <td>0.00</td>\n",
              "      <td>956.91</td>\n",
              "      <td>387.50</td>\n",
              "      <td>7512.31</td>\n",
              "    </tr>\n",
              "  </tbody>\n",
              "</table>\n",
              "</div>\n",
              "      <button class=\"colab-df-convert\" onclick=\"convertToInteractive('df-7f364dfb-dbb2-432b-a264-840929e8e33e')\"\n",
              "              title=\"Convert this dataframe to an interactive table.\"\n",
              "              style=\"display:none;\">\n",
              "        \n",
              "  <svg xmlns=\"http://www.w3.org/2000/svg\" height=\"24px\"viewBox=\"0 0 24 24\"\n",
              "       width=\"24px\">\n",
              "    <path d=\"M0 0h24v24H0V0z\" fill=\"none\"/>\n",
              "    <path d=\"M18.56 5.44l.94 2.06.94-2.06 2.06-.94-2.06-.94-.94-2.06-.94 2.06-2.06.94zm-11 1L8.5 8.5l.94-2.06 2.06-.94-2.06-.94L8.5 2.5l-.94 2.06-2.06.94zm10 10l.94 2.06.94-2.06 2.06-.94-2.06-.94-.94-2.06-.94 2.06-2.06.94z\"/><path d=\"M17.41 7.96l-1.37-1.37c-.4-.4-.92-.59-1.43-.59-.52 0-1.04.2-1.43.59L10.3 9.45l-7.72 7.72c-.78.78-.78 2.05 0 2.83L4 21.41c.39.39.9.59 1.41.59.51 0 1.02-.2 1.41-.59l7.78-7.78 2.81-2.81c.8-.78.8-2.07 0-2.86zM5.41 20L4 18.59l7.72-7.72 1.47 1.35L5.41 20z\"/>\n",
              "  </svg>\n",
              "      </button>\n",
              "      \n",
              "  <style>\n",
              "    .colab-df-container {\n",
              "      display:flex;\n",
              "      flex-wrap:wrap;\n",
              "      gap: 12px;\n",
              "    }\n",
              "\n",
              "    .colab-df-convert {\n",
              "      background-color: #E8F0FE;\n",
              "      border: none;\n",
              "      border-radius: 50%;\n",
              "      cursor: pointer;\n",
              "      display: none;\n",
              "      fill: #1967D2;\n",
              "      height: 32px;\n",
              "      padding: 0 0 0 0;\n",
              "      width: 32px;\n",
              "    }\n",
              "\n",
              "    .colab-df-convert:hover {\n",
              "      background-color: #E2EBFA;\n",
              "      box-shadow: 0px 1px 2px rgba(60, 64, 67, 0.3), 0px 1px 3px 1px rgba(60, 64, 67, 0.15);\n",
              "      fill: #174EA6;\n",
              "    }\n",
              "\n",
              "    [theme=dark] .colab-df-convert {\n",
              "      background-color: #3B4455;\n",
              "      fill: #D2E3FC;\n",
              "    }\n",
              "\n",
              "    [theme=dark] .colab-df-convert:hover {\n",
              "      background-color: #434B5C;\n",
              "      box-shadow: 0px 1px 3px 1px rgba(0, 0, 0, 0.15);\n",
              "      filter: drop-shadow(0px 1px 2px rgba(0, 0, 0, 0.3));\n",
              "      fill: #FFFFFF;\n",
              "    }\n",
              "  </style>\n",
              "\n",
              "      <script>\n",
              "        const buttonEl =\n",
              "          document.querySelector('#df-7f364dfb-dbb2-432b-a264-840929e8e33e button.colab-df-convert');\n",
              "        buttonEl.style.display =\n",
              "          google.colab.kernel.accessAllowed ? 'block' : 'none';\n",
              "\n",
              "        async function convertToInteractive(key) {\n",
              "          const element = document.querySelector('#df-7f364dfb-dbb2-432b-a264-840929e8e33e');\n",
              "          const dataTable =\n",
              "            await google.colab.kernel.invokeFunction('convertToInteractive',\n",
              "                                                     [key], {});\n",
              "          if (!dataTable) return;\n",
              "\n",
              "          const docLinkHtml = 'Like what you see? Visit the ' +\n",
              "            '<a target=\"_blank\" href=https://colab.research.google.com/notebooks/data_table.ipynb>data table notebook</a>'\n",
              "            + ' to learn more about interactive tables.';\n",
              "          element.innerHTML = '';\n",
              "          dataTable['output_type'] = 'display_data';\n",
              "          await google.colab.output.renderOutput(dataTable, element);\n",
              "          const docLink = document.createElement('div');\n",
              "          docLink.innerHTML = docLinkHtml;\n",
              "          element.appendChild(docLink);\n",
              "        }\n",
              "      </script>\n",
              "    </div>\n",
              "  </div>\n",
              "  "
            ],
            "text/plain": [
              "   Organization Group Code Job Family Code  ... Other Benefits  Total Compensation\n",
              "0                        1            1000  ...        4532.63            85281.78\n",
              "1                        1            1000  ...        4755.14            79895.32\n",
              "2                        1            1000  ...        4702.71            93649.71\n",
              "3                        1            1000  ...        7458.76           134237.37\n",
              "4                        1            1000  ...         387.50             7512.31\n",
              "\n",
              "[5 rows x 10 columns]"
            ]
          },
          "metadata": {},
          "execution_count": 15
        }
      ]
    },
    {
      "cell_type": "code",
      "source": [
        "data.dtypes"
      ],
      "metadata": {
        "colab": {
          "base_uri": "https://localhost:8080/"
        },
        "id": "UI3-ezhXr2af",
        "outputId": "e90b6764-9986-4b4b-be1b-3c928f83b3ce"
      },
      "execution_count": null,
      "outputs": [
        {
          "output_type": "execute_result",
          "data": {
            "text/plain": [
              "Organization Group Code      int64\n",
              "Job Family Code             object\n",
              "Job Code                    object\n",
              "Year                         int64\n",
              "Employee Identifier          int64\n",
              "Overtime                   float64\n",
              "Other Salaries             float64\n",
              "Health and Dental          float64\n",
              "Other Benefits             float64\n",
              "Total Compensation         float64\n",
              "dtype: object"
            ]
          },
          "metadata": {},
          "execution_count": 16
        }
      ]
    },
    {
      "cell_type": "code",
      "source": [
        "data['Job Code'].unique()"
      ],
      "metadata": {
        "colab": {
          "base_uri": "https://localhost:8080/"
        },
        "id": "40JLbUxPsDrY",
        "outputId": "ed1d00ea-c9de-4789-ba35-b6cada044d58"
      },
      "execution_count": null,
      "outputs": [
        {
          "output_type": "execute_result",
          "data": {
            "text/plain": [
              "array(['1021', '1023', '1031', ..., '1302', '1306', '0881'], dtype=object)"
            ]
          },
          "metadata": {},
          "execution_count": 17
        }
      ]
    },
    {
      "cell_type": "code",
      "source": [
        "data = data.apply(pd.to_numeric,errors='coerce')\n"
      ],
      "metadata": {
        "id": "fZ-zkEt-sZvO"
      },
      "execution_count": null,
      "outputs": []
    },
    {
      "cell_type": "code",
      "source": [
        "data.isna().sum()"
      ],
      "metadata": {
        "colab": {
          "base_uri": "https://localhost:8080/"
        },
        "id": "xWfqKNy6vEWo",
        "outputId": "9f887f2d-b188-458b-fc63-1de378af4878"
      },
      "execution_count": null,
      "outputs": [
        {
          "output_type": "execute_result",
          "data": {
            "text/plain": [
              "Organization Group Code         0\n",
              "Job Family Code             75909\n",
              "Job Code                   103552\n",
              "Year                            0\n",
              "Employee Identifier             0\n",
              "Overtime                        0\n",
              "Other Salaries                  0\n",
              "Health and Dental               0\n",
              "Other Benefits                  0\n",
              "Total Compensation              0\n",
              "dtype: int64"
            ]
          },
          "metadata": {},
          "execution_count": 19
        }
      ]
    },
    {
      "cell_type": "code",
      "source": [
        "data['Job Code']=data['Job Code'].fillna(data['Job Code'].mean())"
      ],
      "metadata": {
        "id": "Roz-MMgfvKKU"
      },
      "execution_count": null,
      "outputs": []
    },
    {
      "cell_type": "code",
      "source": [
        "data['Job Family Code']=data['Job Family Code'].fillna(data['Job Family Code'].mean())"
      ],
      "metadata": {
        "id": "swduHsnXvD8Z"
      },
      "execution_count": null,
      "outputs": []
    },
    {
      "cell_type": "code",
      "source": [
        "data.isna().sum()"
      ],
      "metadata": {
        "colab": {
          "base_uri": "https://localhost:8080/"
        },
        "id": "H3LGXvWDv49H",
        "outputId": "8c1b6aa6-49fe-4239-8be6-1949221cbc3e"
      },
      "execution_count": null,
      "outputs": [
        {
          "output_type": "execute_result",
          "data": {
            "text/plain": [
              "Organization Group Code    0\n",
              "Job Family Code            0\n",
              "Job Code                   0\n",
              "Year                       0\n",
              "Employee Identifier        0\n",
              "Overtime                   0\n",
              "Other Salaries             0\n",
              "Health and Dental          0\n",
              "Other Benefits             0\n",
              "Total Compensation         0\n",
              "dtype: int64"
            ]
          },
          "metadata": {},
          "execution_count": 22
        }
      ]
    },
    {
      "cell_type": "code",
      "source": [
        "from sklearn.cluster import KMeans\n",
        "model = KMeans(n_clusters=3)\n",
        "model.fit(data)"
      ],
      "metadata": {
        "colab": {
          "base_uri": "https://localhost:8080/"
        },
        "id": "WClifyi4qRMu",
        "outputId": "06ee1558-c1fa-40d5-fcb9-cb6263c1f560"
      },
      "execution_count": null,
      "outputs": [
        {
          "output_type": "execute_result",
          "data": {
            "text/plain": [
              "KMeans(n_clusters=3)"
            ]
          },
          "metadata": {},
          "execution_count": 23
        }
      ]
    },
    {
      "cell_type": "code",
      "source": [
        "#to find center of clusters\n",
        "print(model.cluster_centers_)\n"
      ],
      "metadata": {
        "colab": {
          "base_uri": "https://localhost:8080/"
        },
        "id": "pvvo3Lnix0mQ",
        "outputId": "200e93c9-e5d6-4068-81eb-f4ca5176ee7e"
      },
      "execution_count": null,
      "outputs": [
        {
          "output_type": "stream",
          "name": "stdout",
          "text": [
            "[[2.96965541e+00 4.66297377e+03 4.89271766e+03 2.01775273e+03\n",
            "  3.73179028e+07 6.43355017e+03 3.81086100e+03 1.07638301e+04\n",
            "  5.27175015e+03 1.13938612e+05]\n",
            " [2.97876299e+00 4.75441752e+03 4.89410112e+03 2.01483858e+03\n",
            "  2.85074106e+04 4.53039787e+03 3.77024563e+03 9.08265749e+03\n",
            "  4.73511361e+03 9.89961246e+04]\n",
            " [2.98721026e+00 4.60717128e+03 4.83062434e+03 2.01942831e+03\n",
            "  4.16024191e+07 7.17677377e+03 4.04565718e+03 1.16400535e+04\n",
            "  5.75104590e+03 1.25575354e+05]]\n"
          ]
        }
      ]
    },
    {
      "cell_type": "code",
      "source": [
        "sns.countplot(x=model.labels_, palette='Oranges')\n",
        "plt.show()\n"
      ],
      "metadata": {
        "colab": {
          "base_uri": "https://localhost:8080/",
          "height": 269
        },
        "id": "8HvIssDwyEmk",
        "outputId": "a160ad2a-6d07-423f-949a-f941e0f82ca9"
      },
      "execution_count": null,
      "outputs": [
        {
          "output_type": "display_data",
          "data": {
            "image/png": "[encoded data removed]",
            "text/plain": [
              "<Figure size 432x288 with 1 Axes>"
            ]
          },
          "metadata": {
            "needs_background": "light"
          }
        }
      ]
    },
    {
      "cell_type": "code",
      "source": [
        "plt.scatter(data.iloc[:,5].values,data.iloc[:,-1].values, c=model.labels_, cmap=\"rainbow\")\n",
        "\n",
        "plt.show()\n"
      ],
      "metadata": {
        "colab": {
          "base_uri": "https://localhost:8080/",
          "height": 265
        },
        "id": "Mj4q-1ASyYCZ",
        "outputId": "be3a542a-704a-42ba-f21b-f347d7074a48"
      },
      "execution_count": null,
      "outputs": [
        {
          "output_type": "display_data",
          "data": {
            "image/png": "[encoded data removed]",
            "text/plain": [
              "<Figure size 432x288 with 1 Axes>"
            ]
          },
          "metadata": {
            "needs_background": "light"
          }
        }
      ]
    }
  ]
}